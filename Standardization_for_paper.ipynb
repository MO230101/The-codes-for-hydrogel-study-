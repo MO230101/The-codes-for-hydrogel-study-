{
  "nbformat": 4,
  "nbformat_minor": 0,
  "metadata": {
    "colab": {
      "provenance": [],
      "authorship_tag": "ABX9TyM8wtlDhLDCU1dnGNWRzlic",
      "include_colab_link": true
    },
    "kernelspec": {
      "name": "python3",
      "display_name": "Python 3"
    },
    "language_info": {
      "name": "python"
    }
  },
  "cells": [
    {
      "cell_type": "markdown",
      "metadata": {
        "id": "view-in-github",
        "colab_type": "text"
      },
      "source": [
        "<a href=\"https://colab.research.google.com/github/MO230101/The-codes-for-hydrogel-study-/blob/main/Standardization_for_paper.ipynb\" target=\"_parent\"><img src=\"https://colab.research.google.com/assets/colab-badge.svg\" alt=\"Open In Colab\"/></a>"
      ]
    },
    {
      "cell_type": "code",
      "source": [
        "import pandas as pd\n",
        "from sklearn.preprocessing import StandardScaler\n",
        "\n",
        "# データの読み込み\n",
        "raw_data = pd.read_csv('file_name.csv', index_col=0)\n",
        "\n",
        "# 標準化\n",
        "sc = StandardScaler()\n",
        "data_std = sc.fit_transform(raw_data)\n",
        "\n",
        "# 標準化データのDataFrame作成（インデックスと列名を元データから取得）\n",
        "data_std_df = pd.DataFrame(data_std, index=raw_data.index, columns=raw_data.columns)\n",
        "\n",
        "# CSVに出力（インデックスを含める）\n",
        "data_std_df.to_csv('output_data.csv', index=True)\n",
        "\n",
        "print(\"標準化データを 'TDNMR_AS.csv' に出力しました。\")\n"
      ],
      "metadata": {
        "colab": {
          "base_uri": "https://localhost:8080/"
        },
        "id": "0cnBJS3TM2ks",
        "outputId": "1780e2db-d3e2-44db-f6c7-335e938561f6"
      },
      "execution_count": null,
      "outputs": [
        {
          "output_type": "stream",
          "name": "stdout",
          "text": [
            "標準化データを 'TDNMR_AS2.csv' に出力しました。\n",
            "正規化データを 'ARDkit15_norm.csv' に出力しました。\n"
          ]
        }
      ]
    }
  ]
}