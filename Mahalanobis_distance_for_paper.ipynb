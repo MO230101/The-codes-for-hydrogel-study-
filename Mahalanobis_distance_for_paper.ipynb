{
  "nbformat": 4,
  "nbformat_minor": 0,
  "metadata": {
    "colab": {
      "provenance": [],
      "authorship_tag": "ABX9TyM2uCGdE2JCQDc7va3parkQ",
      "include_colab_link": true
    },
    "kernelspec": {
      "name": "python3",
      "display_name": "Python 3"
    },
    "language_info": {
      "name": "python"
    }
  },
  "cells": [
    {
      "cell_type": "markdown",
      "metadata": {
        "id": "view-in-github",
        "colab_type": "text"
      },
      "source": [
        "<a href=\"https://colab.research.google.com/github/MO230101/The-codes-for-hydrogel-study-/blob/main/Mahalanobis_distance_for_paper.ipynb\" target=\"_parent\"><img src=\"https://colab.research.google.com/assets/colab-badge.svg\" alt=\"Open In Colab\"/></a>"
      ]
    },
    {
      "cell_type": "markdown",
      "source": [],
      "metadata": {
        "id": "D3CP71Y5MuBW"
      }
    },
    {
      "cell_type": "code",
      "source": [
        "import pandas as pd\n",
        "import numpy as np\n",
        "from scipy.spatial.distance import mahalanobis\n",
        "import matplotlib.pyplot as plt\n",
        "import seaborn as sns\n",
        "import matplotlib as mpl\n",
        "\n",
        "# CSVファイルを読み込む\n",
        "data = pd.read_csv('file name.csv', index_col=0)\n",
        "\n",
        "# データの表示（最初の数行）\n",
        "print(\"読み込んだデータ:\")\n",
        "print(data.head())\n",
        "\n",
        "# データ前処理（数値データのみに絞る）\n",
        "numeric_data = data.select_dtypes(include=[np.number])\n",
        "\n",
        "# 最初の列を基準として設定\n",
        "base_column = numeric_data.iloc[:, 0]\n",
        "\n",
        "# 最初の列と他の各列ごとに処理を繰り返す\n",
        "for col_index in range(1, numeric_data.shape[1]):\n",
        "    target_column = numeric_data.iloc[:, col_index]\n",
        "\n",
        "    # 基準列とターゲット列のデータフレームを作成\n",
        "    subset = pd.DataFrame({\n",
        "        numeric_data.columns[0]: base_column,\n",
        "        numeric_data.columns[col_index]: target_column\n",
        "    }, index=data.index)  # インデックスを保持\n",
        "\n",
        "    # マハラノビス距離を計算\n",
        "    cov_matrix = np.cov(subset.T)  # 共分散行列を計算\n",
        "    inv_cov_matrix = np.linalg.inv(cov_matrix)  # 逆共分散行列を計算\n",
        "    mean_vector = subset.mean(axis=0).values  # 平均を計算\n",
        "\n",
        "    # 各データポイントのマハラノビス距離を計算\n",
        "    distances = subset.apply(\n",
        "        lambda row: mahalanobis(row, mean_vector, inv_cov_matrix), axis=1\n",
        "    )\n",
        "\n",
        "    # 結果をデータフレームに追加\n",
        "    subset['Mahalanobis_Distance'] = distances\n",
        "\n",
        "    # 散布図を作成\n",
        "    plt.figure(figsize=(8, 6))\n",
        "    scatter = sns.scatterplot(\n",
        "        data=subset,\n",
        "        x=subset.columns[0],  # x軸（基準列）\n",
        "        y=subset.columns[1],  # y軸（ターゲット列）\n",
        "        hue='Mahalanobis_Distance',  # 色付け\n",
        "        palette='viridis',\n",
        "        size='Mahalanobis_Distance',  # 点のサイズ\n",
        "        sizes=(20, 200)\n",
        "    )\n",
        "\n",
        "    # マハラノビス距離が4以上のデータポイントに名前を付ける\n",
        "    for i in range(len(subset)):\n",
        "        if subset.iloc[i]['Mahalanobis_Distance'] >= 2:  # 閾値を4に設定\n",
        "            plt.text(\n",
        "                x=subset.iloc[i, 0],  # x座標（基準列の値）\n",
        "                y=subset.iloc[i, 1],  # y座標（ターゲット列の値）\n",
        "                s=subset.index[i],   # インデックスを表示\n",
        "                fontsize=9, color='red', weight='bold'\n",
        "            )\n",
        "\n",
        "    # 相関係数を計算\n",
        "    correlation = subset.iloc[:, 0].corr(subset.iloc[:, 1])\n",
        "\n",
        "    # 相関係数をプロットに追加（凡例と重ならないように配置）\n",
        "    plt.text(\n",
        "        0.85, 0.95, f'Correlation: {correlation:.2f}',\n",
        "        ha='right', va='top', transform=plt.gca().transAxes,\n",
        "        fontsize=12, bbox=dict(facecolor='white', edgecolor='None', alpha=0.7)\n",
        "    )\n",
        "\n",
        "    # カラーバーを追加\n",
        "    norm = mpl.colors.Normalize(vmin=subset['Mahalanobis_Distance'].min(), vmax=subset['Mahalanobis_Distance'].max())\n",
        "    sm = plt.cm.ScalarMappable(cmap=\"viridis\", norm=norm)\n",
        "    sm.set_array([])\n",
        "    plt.colorbar(sm, ax=plt.gca(), label=\"Mahalanobis Distance\")\n",
        "\n",
        "    # プロット設定\n",
        "    plt.title(f\"Scatter Plot of {numeric_data.columns[0]} vs {numeric_data.columns[col_index]} with Mahalanobis Distance\")\n",
        "    plt.xlabel(numeric_data.columns[0])  # x軸ラベル（基準列名）\n",
        "    plt.ylabel(numeric_data.columns[col_index])  # y軸ラベル（ターゲット列名）\n",
        "    plt.tight_layout()\n",
        "    plt.show()\n",
        "\n",
        "    # マハラノビス距離の結果を表示\n",
        "    print(f\"\\nMahalanobis距離({numeric_data.columns[0]} vs {numeric_data.columns[col_index]}）:\")\n",
        "    print(subset[['Mahalanobis_Distance']])\n"
      ],
      "metadata": {
        "id": "As8ednJ1T9jl"
      },
      "execution_count": null,
      "outputs": []
    }
  ]
}