{
  "cells": [
    {
      "cell_type": "markdown",
      "metadata": {
        "id": "view-in-github",
        "colab_type": "text"
      },
      "source": [
        "<a href=\"https://colab.research.google.com/github/MO230101/The-codes-for-hydrogel-study-/blob/main/Symbolic_learn_for_paper.ipynb\" target=\"_parent\"><img src=\"https://colab.research.google.com/assets/colab-badge.svg\" alt=\"Open In Colab\"/></a>"
      ]
    },
    {
      "cell_type": "code",
      "execution_count": null,
      "metadata": {
        "colab": {
          "base_uri": "https://localhost:8080/"
        },
        "id": "VIe62vPtGlBO",
        "outputId": "4fced738-e82b-443d-bb8d-e5ed19b329a0",
        "collapsed": true
      },
      "outputs": [
        {
          "name": "stdout",
          "output_type": "stream",
          "text": [
            "Collecting gplearn\n",
            "  Downloading gplearn-0.4.2-py3-none-any.whl.metadata (4.3 kB)\n",
            "Requirement already satisfied: scikit-learn>=1.0.2 in /usr/local/lib/python3.11/dist-packages (from gplearn) (1.6.1)\n",
            "Requirement already satisfied: joblib>=1.0.0 in /usr/local/lib/python3.11/dist-packages (from gplearn) (1.5.0)\n",
            "Requirement already satisfied: numpy>=1.19.5 in /usr/local/lib/python3.11/dist-packages (from scikit-learn>=1.0.2->gplearn) (2.0.2)\n",
            "Requirement already satisfied: scipy>=1.6.0 in /usr/local/lib/python3.11/dist-packages (from scikit-learn>=1.0.2->gplearn) (1.15.3)\n",
            "Requirement already satisfied: threadpoolctl>=3.1.0 in /usr/local/lib/python3.11/dist-packages (from scikit-learn>=1.0.2->gplearn) (3.6.0)\n",
            "Downloading gplearn-0.4.2-py3-none-any.whl (25 kB)\n",
            "Installing collected packages: gplearn\n",
            "Successfully installed gplearn-0.4.2\n",
            "\n",
            "Trial 1/5 with parameters:\n",
            "{'tournament_size': 5, 'stopping_criteria': 0.05, 'population_size': 5000, 'parsimony_coefficient': 0.01, 'p_subtree_mutation': 0.05, 'p_point_mutation': 0.05, 'p_hoist_mutation': 0.05, 'p_crossover': 0.85, 'n_features_to_select': 10, 'max_samples': 1.0, 'generations': 50, 'function_set': ['add', 'sub', 'mul', 'abs', <gplearn.functions._Function object at 0x7c76191e0110>, 'inv', 'neg', <gplearn.functions._Function object at 0x7c7619b0f050>, <gplearn.functions._Function object at 0x7c761c328390>, <gplearn.functions._Function object at 0x7c761a2cce90>, <gplearn.functions._Function object at 0x7c76191cff10>, <gplearn.functions._Function object at 0x7c76191cffd0>]}\n"
          ]
        },
        {
          "name": "stderr",
          "output_type": "stream",
          "text": [
            "<ipython-input-1-35244e505ac8>:46: RuntimeWarning: invalid value encountered in divide\n",
            "  return np.where(np.abs(x2) < 1e-6, 1.0, x1 / x2)\n",
            "<ipython-input-1-35244e505ac8>:55: RuntimeWarning: divide by zero encountered in log\n",
            "  return np.where(x > 0, np.log(x), -1e10) # 非正の値を大きな負の数に置換\n",
            "<ipython-input-1-35244e505ac8>:55: RuntimeWarning: invalid value encountered in log\n",
            "  return np.where(x > 0, np.log(x), -1e10) # 非正の値を大きな負の数に置換\n",
            "/usr/local/lib/python3.11/dist-packages/sklearn/model_selection/_search.py:317: UserWarning: The total space of parameters 1 is smaller than n_iter=5. Running 1 iterations. For exhaustive searches, use GridSearchCV.\n",
            "  warnings.warn(\n",
            "/usr/local/lib/python3.11/dist-packages/sklearn/base.py:474: FutureWarning: `BaseEstimator._validate_data` is deprecated in 1.6 and will be removed in 1.7. Use `sklearn.utils.validation.validate_data` instead. This function becomes public and is part of the scikit-learn developer API.\n",
            "  warnings.warn(\n"
          ]
        },
        {
          "name": "stdout",
          "output_type": "stream",
          "text": [
            "\n",
            "Best Model Summary:\n",
            "  Accuracy: 1.0\n",
            "  Precision: 1.0\n",
            "  Recall: 1.0\n",
            "  F1-score: 1.0\n",
            "  AUC: 1.0\n",
            "  Features: ['MaxPartialCharge', 'NHOHCount', 'NumHDonors', 'Mobile_water_109ms', 'Mobile_water_118ms', 'Mobile_water_122ms', 'Mobile_water_130ms', 'Mobile_water_146ms', 'Mobile_water_181ms', 'Mobile_water_256ms']\n",
            "  Equation: exp(mul2(log(exp(log(neg(NHOHCount)))), Mobile_water_181ms))\n",
            "  Parameters: {'tournament_size': 5, 'stopping_criteria': 0.05, 'population_size': 5000, 'parsimony_coefficient': 0.01, 'p_subtree_mutation': 0.05, 'p_point_mutation': 0.05, 'p_hoist_mutation': 0.05, 'p_crossover': 0.85, 'n_features_to_select': 10, 'max_samples': 1.0, 'generations': 50, 'function_set': ['add', 'sub', 'mul', 'abs', <gplearn.functions._Function object at 0x7c76191e0110>, 'inv', 'neg', <gplearn.functions._Function object at 0x7c7619b0f050>, <gplearn.functions._Function object at 0x7c761c328390>, <gplearn.functions._Function object at 0x7c761a2cce90>, <gplearn.functions._Function object at 0x7c76191cff10>, <gplearn.functions._Function object at 0x7c76191cffd0>]}\n"
          ]
        },
        {
          "name": "stderr",
          "output_type": "stream",
          "text": [
            "<ipython-input-1-35244e505ac8>:55: RuntimeWarning: invalid value encountered in log\n",
            "  return np.where(x > 0, np.log(x), -1e10) # 非正の値を大きな負の数に置換\n",
            "<ipython-input-1-35244e505ac8>:55: RuntimeWarning: divide by zero encountered in log\n",
            "  return np.where(x > 0, np.log(x), -1e10) # 非正の値を大きな負の数に置換\n"
          ]
        }
      ],
      "source": [
        "# The code for swelling\n",
        "import pandas as pd\n",
        "import numpy as np\n",
        "!pip install gplearn\n",
        "from gplearn.genetic import SymbolicRegressor\n",
        "from sklearn.model_selection import train_test_split, ParameterSampler\n",
        "from sklearn.metrics import accuracy_score, recall_score, precision_score, f1_score, roc_auc_score, r2_score\n",
        "from sklearn.feature_selection import SelectKBest, f_regression\n",
        "import random\n",
        "from gplearn.functions import make_function\n",
        "\n",
        "# ランダムシード固定\n",
        "random_seed = 42\n",
        "random.seed(random_seed)\n",
        "np.random.seed(random_seed)\n",
        "\n",
        "# データ読み込み\n",
        "data = pd.read_csv('file name.csv')\n",
        "if 'Unnamed: 0' in data.columns:\n",
        "    X = data.drop(['CA1', 'Unnamed: 0'], axis=1)\n",
        "else:\n",
        "    X = data.drop('CA1', axis=1)\n",
        "y = data['CA1']\n",
        "\n",
        "# データ分割\n",
        "X_train, X_test, y_train, y_test = train_test_split(\n",
        "    X, y, test_size=0.3, random_state=random_seed, stratify=y\n",
        ")\n",
        "\n",
        "X_train_scaled_df = X_train.copy()\n",
        "X_test_scaled_df = X_test.copy()\n",
        "\n",
        "# カスタム関数定義 (NaN 対策を含む)\n",
        "def protected_square(x):\n",
        "    return np.where(np.abs(x) < 1e10, x**2, 1e10)\n",
        "\n",
        "def multiply2(x1, x2):\n",
        "    return x1 * x2\n",
        "\n",
        "def safe_divide(x1, x2):\n",
        "    return np.where(np.abs(x2) < 1e-6, 1.0, x1 / x2)\n",
        "\n",
        "def multiply3(x1, x2, x3):\n",
        "    return x1 * x2 * x3\n",
        "\n",
        "def protected_exp(x):\n",
        "    return np.where(x < 100, np.exp(x), 1e10) # 無限大を大きな有限数に置換\n",
        "\n",
        "def protected_log(x):\n",
        "    return np.where(x > 0, np.log(x), -1e10) # 非正の値を大きな負の数に置換\n",
        "\n",
        "# make_function を使って GPlearn が認識できる形式に変換\n",
        "square_function = make_function(function=protected_square, arity=1, name='square')\n",
        "multiply2_function = make_function(function=multiply2, arity=2, name='mul2')\n",
        "safe_divide_function = make_function(function=safe_divide, arity=2, name='div')\n",
        "multiply3_function = make_function(function=multiply3, arity=3, name='mul3')\n",
        "exp_function = make_function(function=protected_exp, arity=1, name='exp')\n",
        "log_function = make_function(function=protected_log, arity=1, name='log')\n",
        "# sqrt_function の定義は残しておいても問題ありませんが、function_set から削除します\n",
        "\n",
        "# 改善版：関数セットとパラメータ\n",
        "function_set = ['add', 'sub', 'mul', 'abs', log_function, 'inv', 'neg',\n",
        "                square_function,\n",
        "                multiply2_function, safe_divide_function,\n",
        "                multiply3_function,\n",
        "                exp_function]\n",
        "\n",
        "param_grid_improved = {\n",
        "    'n_features_to_select': [10],\n",
        "    'function_set': [function_set],\n",
        "    'population_size': [5000],\n",
        "    'generations': [50],\n",
        "    'tournament_size': [5],\n",
        "    'stopping_criteria': [0.05],\n",
        "    'p_crossover': [0.85],\n",
        "    'p_subtree_mutation': [0.05],\n",
        "    'p_hoist_mutation': [0.05],\n",
        "    'p_point_mutation': [0.05],\n",
        "    'max_samples': [1.0],\n",
        "    'parsimony_coefficient': [0.01],\n",
        "   }\n",
        "\n",
        "# パラメータサンプリング\n",
        "n_iter = 5\n",
        "param_sampler = ParameterSampler(param_grid_improved, n_iter=n_iter, random_state=random_seed)\n",
        "\n",
        "best_score = -1.0\n",
        "best_params = None\n",
        "best_estimator = None\n",
        "all_results = []\n",
        "\n",
        "for i, params in enumerate(param_sampler):\n",
        "    print(f\"\\nTrial {i+1}/{n_iter} with parameters:\\n{params}\")\n",
        "\n",
        "    # 特徴量選択\n",
        "    selector = SelectKBest(score_func=f_regression, k=params['n_features_to_select'])\n",
        "    X_train_sel = selector.fit_transform(X_train_scaled_df, y_train)\n",
        "    X_test_sel = selector.transform(X_test_scaled_df)\n",
        "    selected_features = X_train.columns[selector.get_support(indices=True)].tolist()\n",
        "\n",
        "    # モデル構築\n",
        "    est = SymbolicRegressor(\n",
        "        random_state=random_seed,\n",
        "        function_set=params['function_set'],\n",
        "        metric='mse',\n",
        "        population_size=params['population_size'],\n",
        "        generations=params['generations'],\n",
        "        tournament_size=params['tournament_size'],\n",
        "        stopping_criteria=params['stopping_criteria'],\n",
        "        p_crossover=params['p_crossover'],\n",
        "        p_subtree_mutation=params['p_subtree_mutation'],\n",
        "        p_hoist_mutation=params['p_hoist_mutation'],\n",
        "        p_point_mutation=params['p_point_mutation'],\n",
        "        max_samples=params['max_samples'],\n",
        "        parsimony_coefficient=params['parsimony_coefficient'],\n",
        "        n_jobs=-1,\n",
        "        feature_names=selected_features\n",
        "    )\n",
        "\n",
        "    est.fit(X_train_sel, y_train)\n",
        "    y_pred = est.predict(X_test_sel)\n",
        "    y_pred_binary = (y_pred > 0.5).astype(int)\n",
        "    acc = accuracy_score(y_test, y_pred_binary)\n",
        "    recall = recall_score(y_test, y_pred_binary)\n",
        "    precision = precision_score(y_test, y_pred_binary)\n",
        "    f1 = f1_score(y_test, y_pred_binary)\n",
        "    auc = roc_auc_score(y_test, y_pred)\n",
        "    r2 = r2_score(y_test, y_pred)\n",
        "\n",
        "    all_results.append({\n",
        "        'params': params,\n",
        "        'accuracy': acc,\n",
        "        'precision': precision,\n",
        "        'recall': recall,\n",
        "        'f1_score': f1,\n",
        "        'auc': auc,\n",
        "        'r2_score': r2,\n",
        "        'features': selected_features,\n",
        "        'equation': str(est._program)\n",
        "    })\n",
        "\n",
        "    if acc > best_score:\n",
        "        best_score = acc\n",
        "        best_params = params\n",
        "        best_estimator = est\n",
        "        best_features = selected_features\n",
        "        best_precision = precision\n",
        "        best_recall = recall\n",
        "        best_f1 = f1\n",
        "        best_auc = auc\n",
        "\n",
        "# ベストモデル結果\n",
        "print(\"\\nBest Model Summary:\")\n",
        "print(f\"  Accuracy: {best_score}\")\n",
        "print(f\"  Precision: {best_precision}\")\n",
        "print(f\"  Recall: {best_recall}\")\n",
        "print(f\"  F1-score: {best_f1}\")\n",
        "print(f\"  AUC: {best_auc}\")\n",
        "print(f\"  Features: {best_features}\")\n",
        "print(f\"  Equation: {best_estimator._program}\")\n",
        "print(f\"  Parameters: {best_params}\")"
      ]
    },
    {
      "cell_type": "markdown",
      "metadata": {
        "id": "GGQy9T7QSkpO"
      },
      "source": []
    },
    {
      "cell_type": "code",
      "execution_count": null,
      "metadata": {
        "colab": {
          "background_save": true,
          "base_uri": "https://localhost:8080/"
        },
        "collapsed": true,
        "id": "w3-NfiDMvbgG",
        "outputId": "a3a32ebf-90fd-4490-8934-ce3dd48e2a62"
      },
      "outputs": [
        {
          "name": "stdout",
          "output_type": "stream",
          "text": [
            "Requirement already satisfied: gplearn in /usr/local/lib/python3.11/dist-packages (0.4.2)\n",
            "Requirement already satisfied: scikit-learn>=1.0.2 in /usr/local/lib/python3.11/dist-packages (from gplearn) (1.6.1)\n",
            "Requirement already satisfied: joblib>=1.0.0 in /usr/local/lib/python3.11/dist-packages (from gplearn) (1.5.0)\n",
            "Requirement already satisfied: numpy>=1.19.5 in /usr/local/lib/python3.11/dist-packages (from scikit-learn>=1.0.2->gplearn) (2.0.2)\n",
            "Requirement already satisfied: scipy>=1.6.0 in /usr/local/lib/python3.11/dist-packages (from scikit-learn>=1.0.2->gplearn) (1.15.3)\n",
            "Requirement already satisfied: threadpoolctl>=3.1.0 in /usr/local/lib/python3.11/dist-packages (from scikit-learn>=1.0.2->gplearn) (3.6.0)\n",
            "\n",
            "Trial 1/10 with parameters:\n",
            "{'tournament_size': 5, 'stopping_criteria': 0.05, 'population_size': 4000, 'parsimony_coefficient': 0.01, 'p_subtree_mutation': 0.05, 'p_point_mutation': 0.05, 'p_hoist_mutation': 0.03, 'p_crossover': 0.85, 'n_features_to_select': 20, 'max_samples': 0.9, 'generations': 500, 'function_set': ['add', 'sub', 'mul', 'abs', 'sqrt', 'log', 'inv', 'neg', <gplearn.functions._Function object at 0x7c7604dde4d0>, <gplearn.functions._Function object at 0x7c75f8984490>, <gplearn.functions._Function object at 0x7c75f8985bd0>, <gplearn.functions._Function object at 0x7c75f8985450>]}\n"
          ]
        },
        {
          "name": "stderr",
          "output_type": "stream",
          "text": [
            "<ipython-input-3-9c2329a11484>:49: RuntimeWarning: invalid value encountered in divide\n",
            "  return np.where(np.abs(x2) < 1e-6, 1.0, x1 / x2)\n",
            "/usr/local/lib/python3.11/dist-packages/sklearn/base.py:474: FutureWarning: `BaseEstimator._validate_data` is deprecated in 1.6 and will be removed in 1.7. Use `sklearn.utils.validation.validate_data` instead. This function becomes public and is part of the scikit-learn developer API.\n",
            "  warnings.warn(\n"
          ]
        },
        {
          "name": "stdout",
          "output_type": "stream",
          "text": [
            "\n",
            "Trial 2/10 with parameters:\n",
            "{'tournament_size': 10, 'stopping_criteria': 0.05, 'population_size': 4000, 'parsimony_coefficient': 0.01, 'p_subtree_mutation': 0.05, 'p_point_mutation': 0.05, 'p_hoist_mutation': 0.03, 'p_crossover': 0.85, 'n_features_to_select': 10, 'max_samples': 0.9, 'generations': 500, 'function_set': ['add', 'sub', 'mul', 'abs', 'sqrt', 'log', 'inv', 'neg', <gplearn.functions._Function object at 0x7c7604dde4d0>, <gplearn.functions._Function object at 0x7c75f8984490>, <gplearn.functions._Function object at 0x7c75f8985bd0>, <gplearn.functions._Function object at 0x7c75f8985450>]}\n"
          ]
        },
        {
          "name": "stderr",
          "output_type": "stream",
          "text": [
            "/usr/local/lib/python3.11/dist-packages/sklearn/base.py:474: FutureWarning: `BaseEstimator._validate_data` is deprecated in 1.6 and will be removed in 1.7. Use `sklearn.utils.validation.validate_data` instead. This function becomes public and is part of the scikit-learn developer API.\n",
            "  warnings.warn(\n"
          ]
        },
        {
          "name": "stdout",
          "output_type": "stream",
          "text": [
            "\n",
            "Trial 3/10 with parameters:\n",
            "{'tournament_size': 5, 'stopping_criteria': 0.05, 'population_size': 4000, 'parsimony_coefficient': 0.01, 'p_subtree_mutation': 0.05, 'p_point_mutation': 0.05, 'p_hoist_mutation': 0.03, 'p_crossover': 0.85, 'n_features_to_select': 5, 'max_samples': 0.9, 'generations': 300, 'function_set': ['add', 'sub', 'mul', 'abs', 'sqrt', 'log', 'inv', 'neg', <gplearn.functions._Function object at 0x7c7604dde4d0>, <gplearn.functions._Function object at 0x7c75f8984490>, <gplearn.functions._Function object at 0x7c75f8985bd0>, <gplearn.functions._Function object at 0x7c75f8985450>]}\n"
          ]
        },
        {
          "name": "stderr",
          "output_type": "stream",
          "text": [
            "/usr/local/lib/python3.11/dist-packages/sklearn/base.py:474: FutureWarning: `BaseEstimator._validate_data` is deprecated in 1.6 and will be removed in 1.7. Use `sklearn.utils.validation.validate_data` instead. This function becomes public and is part of the scikit-learn developer API.\n",
            "  warnings.warn(\n"
          ]
        },
        {
          "name": "stdout",
          "output_type": "stream",
          "text": [
            "\n",
            "Trial 4/10 with parameters:\n",
            "{'tournament_size': 5, 'stopping_criteria': 0.05, 'population_size': 4000, 'parsimony_coefficient': 0.01, 'p_subtree_mutation': 0.05, 'p_point_mutation': 0.05, 'p_hoist_mutation': 0.03, 'p_crossover': 0.85, 'n_features_to_select': 10, 'max_samples': 0.9, 'generations': 500, 'function_set': ['add', 'sub', 'mul', 'abs', 'sqrt', 'log', 'inv', 'neg', <gplearn.functions._Function object at 0x7c7604dde4d0>, <gplearn.functions._Function object at 0x7c75f8984490>, <gplearn.functions._Function object at 0x7c75f8985bd0>, <gplearn.functions._Function object at 0x7c75f8985450>]}\n"
          ]
        },
        {
          "name": "stderr",
          "output_type": "stream",
          "text": [
            "/usr/local/lib/python3.11/dist-packages/sklearn/base.py:474: FutureWarning: `BaseEstimator._validate_data` is deprecated in 1.6 and will be removed in 1.7. Use `sklearn.utils.validation.validate_data` instead. This function becomes public and is part of the scikit-learn developer API.\n",
            "  warnings.warn(\n"
          ]
        },
        {
          "name": "stdout",
          "output_type": "stream",
          "text": [
            "\n",
            "Trial 5/10 with parameters:\n",
            "{'tournament_size': 10, 'stopping_criteria': 0.05, 'population_size': 4000, 'parsimony_coefficient': 0.01, 'p_subtree_mutation': 0.05, 'p_point_mutation': 0.05, 'p_hoist_mutation': 0.03, 'p_crossover': 0.85, 'n_features_to_select': 20, 'max_samples': 0.9, 'generations': 300, 'function_set': ['add', 'sub', 'mul', 'abs', 'sqrt', 'log', 'inv', 'neg', <gplearn.functions._Function object at 0x7c7604dde4d0>, <gplearn.functions._Function object at 0x7c75f8984490>, <gplearn.functions._Function object at 0x7c75f8985bd0>, <gplearn.functions._Function object at 0x7c75f8985450>]}\n"
          ]
        },
        {
          "name": "stderr",
          "output_type": "stream",
          "text": [
            "/usr/local/lib/python3.11/dist-packages/sklearn/base.py:474: FutureWarning: `BaseEstimator._validate_data` is deprecated in 1.6 and will be removed in 1.7. Use `sklearn.utils.validation.validate_data` instead. This function becomes public and is part of the scikit-learn developer API.\n",
            "  warnings.warn(\n"
          ]
        },
        {
          "name": "stdout",
          "output_type": "stream",
          "text": [
            "\n",
            "Trial 6/10 with parameters:\n",
            "{'tournament_size': 5, 'stopping_criteria': 0.05, 'population_size': 4000, 'parsimony_coefficient': 0.01, 'p_subtree_mutation': 0.05, 'p_point_mutation': 0.05, 'p_hoist_mutation': 0.03, 'p_crossover': 0.85, 'n_features_to_select': 10, 'max_samples': 0.9, 'generations': 300, 'function_set': ['add', 'sub', 'mul', 'abs', 'sqrt', 'log', 'inv', 'neg', <gplearn.functions._Function object at 0x7c7604dde4d0>, <gplearn.functions._Function object at 0x7c75f8984490>, <gplearn.functions._Function object at 0x7c75f8985bd0>, <gplearn.functions._Function object at 0x7c75f8985450>]}\n"
          ]
        },
        {
          "name": "stderr",
          "output_type": "stream",
          "text": [
            "/usr/local/lib/python3.11/dist-packages/sklearn/base.py:474: FutureWarning: `BaseEstimator._validate_data` is deprecated in 1.6 and will be removed in 1.7. Use `sklearn.utils.validation.validate_data` instead. This function becomes public and is part of the scikit-learn developer API.\n",
            "  warnings.warn(\n"
          ]
        },
        {
          "name": "stdout",
          "output_type": "stream",
          "text": [
            "\n",
            "Trial 7/10 with parameters:\n",
            "{'tournament_size': 10, 'stopping_criteria': 0.05, 'population_size': 4000, 'parsimony_coefficient': 0.01, 'p_subtree_mutation': 0.05, 'p_point_mutation': 0.05, 'p_hoist_mutation': 0.03, 'p_crossover': 0.85, 'n_features_to_select': 5, 'max_samples': 0.9, 'generations': 300, 'function_set': ['add', 'sub', 'mul', 'abs', 'sqrt', 'log', 'inv', 'neg', <gplearn.functions._Function object at 0x7c7604dde4d0>, <gplearn.functions._Function object at 0x7c75f8984490>, <gplearn.functions._Function object at 0x7c75f8985bd0>, <gplearn.functions._Function object at 0x7c75f8985450>]}\n"
          ]
        },
        {
          "name": "stderr",
          "output_type": "stream",
          "text": [
            "/usr/local/lib/python3.11/dist-packages/sklearn/base.py:474: FutureWarning: `BaseEstimator._validate_data` is deprecated in 1.6 and will be removed in 1.7. Use `sklearn.utils.validation.validate_data` instead. This function becomes public and is part of the scikit-learn developer API.\n",
            "  warnings.warn(\n"
          ]
        },
        {
          "name": "stdout",
          "output_type": "stream",
          "text": [
            "\n",
            "Trial 8/10 with parameters:\n",
            "{'tournament_size': 10, 'stopping_criteria': 0.05, 'population_size': 4000, 'parsimony_coefficient': 0.01, 'p_subtree_mutation': 0.05, 'p_point_mutation': 0.05, 'p_hoist_mutation': 0.03, 'p_crossover': 0.85, 'n_features_to_select': 20, 'max_samples': 0.9, 'generations': 500, 'function_set': ['add', 'sub', 'mul', 'abs', 'sqrt', 'log', 'inv', 'neg', <gplearn.functions._Function object at 0x7c7604dde4d0>, <gplearn.functions._Function object at 0x7c75f8984490>, <gplearn.functions._Function object at 0x7c75f8985bd0>, <gplearn.functions._Function object at 0x7c75f8985450>]}\n"
          ]
        },
        {
          "name": "stderr",
          "output_type": "stream",
          "text": [
            "/usr/local/lib/python3.11/dist-packages/sklearn/base.py:474: FutureWarning: `BaseEstimator._validate_data` is deprecated in 1.6 and will be removed in 1.7. Use `sklearn.utils.validation.validate_data` instead. This function becomes public and is part of the scikit-learn developer API.\n",
            "  warnings.warn(\n"
          ]
        },
        {
          "name": "stdout",
          "output_type": "stream",
          "text": [
            "\n",
            "Trial 9/10 with parameters:\n",
            "{'tournament_size': 5, 'stopping_criteria': 0.05, 'population_size': 4000, 'parsimony_coefficient': 0.01, 'p_subtree_mutation': 0.05, 'p_point_mutation': 0.05, 'p_hoist_mutation': 0.03, 'p_crossover': 0.85, 'n_features_to_select': 20, 'max_samples': 0.9, 'generations': 300, 'function_set': ['add', 'sub', 'mul', 'abs', 'sqrt', 'log', 'inv', 'neg', <gplearn.functions._Function object at 0x7c7604dde4d0>, <gplearn.functions._Function object at 0x7c75f8984490>, <gplearn.functions._Function object at 0x7c75f8985bd0>, <gplearn.functions._Function object at 0x7c75f8985450>]}\n"
          ]
        },
        {
          "name": "stderr",
          "output_type": "stream",
          "text": [
            "/usr/local/lib/python3.11/dist-packages/sklearn/base.py:474: FutureWarning: `BaseEstimator._validate_data` is deprecated in 1.6 and will be removed in 1.7. Use `sklearn.utils.validation.validate_data` instead. This function becomes public and is part of the scikit-learn developer API.\n",
            "  warnings.warn(\n"
          ]
        },
        {
          "name": "stdout",
          "output_type": "stream",
          "text": [
            "\n",
            "Trial 10/10 with parameters:\n",
            "{'tournament_size': 10, 'stopping_criteria': 0.05, 'population_size': 4000, 'parsimony_coefficient': 0.01, 'p_subtree_mutation': 0.05, 'p_point_mutation': 0.05, 'p_hoist_mutation': 0.03, 'p_crossover': 0.85, 'n_features_to_select': 5, 'max_samples': 0.9, 'generations': 500, 'function_set': ['add', 'sub', 'mul', 'abs', 'sqrt', 'log', 'inv', 'neg', <gplearn.functions._Function object at 0x7c7604dde4d0>, <gplearn.functions._Function object at 0x7c75f8984490>, <gplearn.functions._Function object at 0x7c75f8985bd0>, <gplearn.functions._Function object at 0x7c75f8985450>]}\n"
          ]
        },
        {
          "name": "stderr",
          "output_type": "stream",
          "text": [
            "/usr/local/lib/python3.11/dist-packages/sklearn/base.py:474: FutureWarning: `BaseEstimator._validate_data` is deprecated in 1.6 and will be removed in 1.7. Use `sklearn.utils.validation.validate_data` instead. This function becomes public and is part of the scikit-learn developer API.\n",
            "  warnings.warn(\n"
          ]
        },
        {
          "name": "stdout",
          "output_type": "stream",
          "text": [
            "\n",
            "Best Model Summary:\n",
            "  Accuracy: 0.75\n",
            "  Precision: 1.0\n",
            "  Recall: 0.5\n",
            "  F1-score: 0.6666666666666666\n",
            "  AUC: 0.75\n",
            "  Features: ['PEOE_VSA14', 'SlogP_VSA1', 'fr_COO', 'fr_COO2', 'Mobile_water_93ms', 'Mobile_water_130ms', 'Mobile_water_158ms', 'Mobile_water_195ms', 'Mobile_water_375ms', 'Mobile_chains_191ms']\n",
            "  Equation: abs(mul2(sub(Mobile_chains_191ms, fr_COO), -0.425))\n",
            "  Parameters: {'tournament_size': 10, 'stopping_criteria': 0.05, 'population_size': 4000, 'parsimony_coefficient': 0.01, 'p_subtree_mutation': 0.05, 'p_point_mutation': 0.05, 'p_hoist_mutation': 0.03, 'p_crossover': 0.85, 'n_features_to_select': 10, 'max_samples': 0.9, 'generations': 500, 'function_set': ['add', 'sub', 'mul', 'abs', 'sqrt', 'log', 'inv', 'neg', <gplearn.functions._Function object at 0x7c7604dde4d0>, <gplearn.functions._Function object at 0x7c75f8984490>, <gplearn.functions._Function object at 0x7c75f8985bd0>, <gplearn.functions._Function object at 0x7c75f8985450>]}\n"
          ]
        }
      ],
      "source": [
        "# The code for HSQC\n",
        "import pandas as pd\n",
        "import numpy as np\n",
        "!pip install gplearn\n",
        "from gplearn.genetic import SymbolicRegressor\n",
        "from sklearn.model_selection import train_test_split, ParameterSampler\n",
        "from sklearn.metrics import accuracy_score, recall_score, precision_score, f1_score, roc_auc_score, r2_score\n",
        "from sklearn.feature_selection import SelectKBest, f_regression\n",
        "# from sklearn.preprocessing import StandardScaler # 削除\n",
        "import random\n",
        "from gplearn.functions import make_function\n",
        "\n",
        "# ランダムシード固定\n",
        "random_seed = 42\n",
        "random.seed(random_seed)\n",
        "np.random.seed(random_seed)\n",
        "\n",
        "# データ読み込み\n",
        "data = pd.read_csv('file name.csv')\n",
        "if 'Unnamed: 0' in data.columns:\n",
        "    X = data.drop(['CA1', 'Unnamed: 0'], axis=1)\n",
        "else:\n",
        "    X = data.drop('CA1', axis=1)\n",
        "y = data['CA1']\n",
        "\n",
        "# データ分割\n",
        "X_train, X_test, y_train, y_test = train_test_split(\n",
        "    X, y, test_size=0.3, random_state=random_seed, stratify=y\n",
        ")\n",
        "\n",
        "X_train_scaled_df = X_train.copy()\n",
        "X_test_scaled_df = X_test.copy()\n",
        "\n",
        "# カスタム関数定義 (NaN 対策を含む)\n",
        "def protected_square(x):\n",
        "    return np.where(np.abs(x) < 1e10, x**2, 1e10)\n",
        "\n",
        "def multiply2(x1, x2):\n",
        "    return x1 * x2\n",
        "\n",
        "def safe_divide(x1, x2):\n",
        "    return np.where(np.abs(x2) < 1e-6, 1.0, x1 / x2)\n",
        "\n",
        "def multiply3(x1, x2, x3):\n",
        "    return x1 * x2 * x3\n",
        "\n",
        "def protected_exp(x):\n",
        "    return np.where(x < 100, np.exp(x), 1e10) # 無限大を大きな有限数に置換\n",
        "\n",
        "def protected_log(x):\n",
        "    return np.where(x > 0, np.log(x), -1e10) # 非正の値を大きな負の数に置換\n",
        "\n",
        "# make_function を使って GPlearn が認識できる形式に変換\n",
        "square_function = make_function(function=protected_square, arity=1, name='square')\n",
        "multiply2_function = make_function(function=multiply2, arity=2, name='mul2')\n",
        "safe_divide_function = make_function(function=safe_divide, arity=2, name='div')\n",
        "multiply3_function = make_function(function=multiply3, arity=3, name='mul3')\n",
        "exp_function = make_function(function=protected_exp, arity=1, name='exp')\n",
        "log_function = make_function(function=protected_log, arity=1, name='log')\n",
        "# sqrt_function の定義は残しておいても問題ありませんが、function_set から削除します\n",
        "\n",
        "# 改善版：関数セットとパラメータ\n",
        "function_set = ['add', 'sub', 'mul', 'abs', log_function, 'inv', 'neg',\n",
        "                square_function,\n",
        "                multiply2_function, safe_divide_function,\n",
        "                multiply3_function,\n",
        "                exp_function]\n",
        "\n",
        "param_grid_improved = {\n",
        "    'n_features_to_select': [5, 10, 15, 20],\n",
        "    'function_set': [function_set],\n",
        "    'population_size': [1000],\n",
        "    'generations': [500],\n",
        "    'tournament_size': [5],\n",
        "    'stopping_criteria': [0.05],\n",
        "    'p_crossover': [0.95],\n",
        "    'p_subtree_mutation': [0.01],\n",
        "    'p_hoist_mutation': [0.01],\n",
        "    'p_point_mutation': [0.01],\n",
        "    'max_samples': [1.0],\n",
        "    'parsimony_coefficient': [0.01],\n",
        "   }\n",
        "\n",
        "# パラメータサンプリング\n",
        "n_iter = 5\n",
        "param_sampler = ParameterSampler(param_grid_improved, n_iter=n_iter, random_state=random_seed)\n",
        "\n",
        "best_score = -1.0\n",
        "best_params = None\n",
        "best_estimator = None\n",
        "all_results = []\n",
        "\n",
        "for i, params in enumerate(param_sampler):\n",
        "    print(f\"\\nTrial {i+1}/{n_iter} with parameters:\\n{params}\")\n",
        "\n",
        "    # 特徴量選択\n",
        "    selector = SelectKBest(score_func=f_regression, k=params['n_features_to_select'])\n",
        "    X_train_sel = selector.fit_transform(X_train_scaled_df, y_train)\n",
        "    X_test_sel = selector.transform(X_test_scaled_df)\n",
        "    selected_features = X_train.columns[selector.get_support(indices=True)].tolist()\n",
        "\n",
        "    # モデル構築\n",
        "    est = SymbolicRegressor(\n",
        "        random_state=random_seed,\n",
        "        function_set=params['function_set'],\n",
        "        metric='mse',\n",
        "        population_size=params['population_size'],\n",
        "        generations=params['generations'],\n",
        "        tournament_size=params['tournament_size'],\n",
        "        stopping_criteria=params['stopping_criteria'],\n",
        "        p_crossover=params['p_crossover'],\n",
        "        p_subtree_mutation=params['p_subtree_mutation'],\n",
        "        p_hoist_mutation=params['p_hoist_mutation'],\n",
        "        p_point_mutation=params['p_point_mutation'],\n",
        "        max_samples=params['max_samples'],\n",
        "        parsimony_coefficient=params['parsimony_coefficient'],\n",
        "        n_jobs=-1,\n",
        "        feature_names=selected_features\n",
        "    )\n",
        "\n",
        "    est.fit(X_train_sel, y_train)\n",
        "    y_pred = est.predict(X_test_sel)\n",
        "    y_pred_binary = (y_pred > 0.5).astype(int)\n",
        "    acc = accuracy_score(y_test, y_pred_binary)\n",
        "    recall = recall_score(y_test, y_pred_binary)\n",
        "    precision = precision_score(y_test, y_pred_binary)\n",
        "    f1 = f1_score(y_test, y_pred_binary)\n",
        "    auc = roc_auc_score(y_test, y_pred)\n",
        "    r2 = r2_score(y_test, y_pred)\n",
        "\n",
        "    all_results.append({\n",
        "        'params': params,\n",
        "        'accuracy': acc,\n",
        "        'precision': precision,\n",
        "        'recall': recall,\n",
        "        'f1_score': f1,\n",
        "        'auc': auc,\n",
        "        'r2_score': r2,\n",
        "        'features': selected_features,\n",
        "        'equation': str(est._program)\n",
        "    })\n",
        "\n",
        "    if acc > best_score:\n",
        "        best_score = acc\n",
        "        best_params = params\n",
        "        best_estimator = est\n",
        "        best_features = selected_features\n",
        "        best_precision = precision\n",
        "        best_recall = recall\n",
        "        best_f1 = f1\n",
        "        best_auc = auc\n",
        "\n",
        "# ベストモデル結果\n",
        "print(\"\\nBest Model Summary:\")\n",
        "print(f\"  Accuracy: {best_score}\")\n",
        "print(f\"  Precision: {best_precision}\")\n",
        "print(f\"  Recall: {best_recall}\")\n",
        "print(f\"  F1-score: {best_f1}\")\n",
        "print(f\"  AUC: {best_auc}\")\n",
        "print(f\"  Features: {best_features}\")\n",
        "print(f\"  Equation: {best_estimator._program}\")\n",
        "print(f\"  Parameters: {best_params}\")"
      ]
    },
    {
      "cell_type": "code",
      "execution_count": null,
      "metadata": {
        "colab": {
          "base_uri": "https://localhost:8080/"
        },
        "id": "jTEd28s_9J_8",
        "outputId": "e022b227-5283-4d59-ac9c-75aa16d051e2"
      },
      "outputs": [
        {
          "name": "stdout",
          "output_type": "stream",
          "text": [
            "Collecting gplearn\n",
            "  Downloading gplearn-0.4.2-py3-none-any.whl.metadata (4.3 kB)\n",
            "Requirement already satisfied: scikit-learn>=1.0.2 in /usr/local/lib/python3.11/dist-packages (from gplearn) (1.6.1)\n",
            "Requirement already satisfied: joblib>=1.0.0 in /usr/local/lib/python3.11/dist-packages (from gplearn) (1.4.2)\n",
            "Requirement already satisfied: numpy>=1.19.5 in /usr/local/lib/python3.11/dist-packages (from scikit-learn>=1.0.2->gplearn) (2.0.2)\n",
            "Requirement already satisfied: scipy>=1.6.0 in /usr/local/lib/python3.11/dist-packages (from scikit-learn>=1.0.2->gplearn) (1.15.2)\n",
            "Requirement already satisfied: threadpoolctl>=3.1.0 in /usr/local/lib/python3.11/dist-packages (from scikit-learn>=1.0.2->gplearn) (3.6.0)\n",
            "Downloading gplearn-0.4.2-py3-none-any.whl (25 kB)\n",
            "Installing collected packages: gplearn\n",
            "Successfully installed gplearn-0.4.2\n",
            "\n",
            "Trial 1/10 with parameters:\n",
            "{'tournament_size': 5, 'stopping_criteria': 0.05, 'population_size': 2000, 'parsimony_coefficient': 0.001, 'p_subtree_mutation': 0.05, 'p_point_mutation': 0.05, 'p_hoist_mutation': 0.03, 'p_crossover': 0.85, 'n_features_to_select': 5, 'max_samples': 0.9, 'max_depth': 10, 'generations': 500, 'function_set': ['add', 'sub', 'mul', 'abs', 'sqrt', 'log', 'inv', 'neg', <gplearn.functions._Function object at 0x7fb19c1b8450>, <gplearn.functions._Function object at 0x7fb19ae057d0>, <gplearn.functions._Function object at 0x7fb1e8640e90>, <gplearn.functions._Function object at 0x7fb19beaedd0>]}\n"
          ]
        },
        {
          "name": "stderr",
          "output_type": "stream",
          "text": [
            "<ipython-input-1-226ffadf6cf7>:41: RuntimeWarning: invalid value encountered in divide\n",
            "  return np.where(np.abs(x2) < 1e-6, 1.0, x1 / x2)\n",
            "/usr/local/lib/python3.11/dist-packages/sklearn/base.py:474: FutureWarning: `BaseEstimator._validate_data` is deprecated in 1.6 and will be removed in 1.7. Use `sklearn.utils.validation.validate_data` instead. This function becomes public and is part of the scikit-learn developer API.\n",
            "  warnings.warn(\n"
          ]
        },
        {
          "name": "stdout",
          "output_type": "stream",
          "text": [
            "\n",
            "Trial 2/10 with parameters:\n",
            "{'tournament_size': 10, 'stopping_criteria': 0.05, 'population_size': 2000, 'parsimony_coefficient': 0.01, 'p_subtree_mutation': 0.05, 'p_point_mutation': 0.05, 'p_hoist_mutation': 0.03, 'p_crossover': 0.85, 'n_features_to_select': 10, 'max_samples': 0.9, 'max_depth': 7, 'generations': 500, 'function_set': ['add', 'sub', 'mul', 'abs', 'sqrt', 'log', 'inv', 'neg', <gplearn.functions._Function object at 0x7fb19c1b8450>, <gplearn.functions._Function object at 0x7fb19ae057d0>, <gplearn.functions._Function object at 0x7fb1e8640e90>, <gplearn.functions._Function object at 0x7fb19beaedd0>]}\n"
          ]
        },
        {
          "name": "stderr",
          "output_type": "stream",
          "text": [
            "/usr/local/lib/python3.11/dist-packages/sklearn/base.py:474: FutureWarning: `BaseEstimator._validate_data` is deprecated in 1.6 and will be removed in 1.7. Use `sklearn.utils.validation.validate_data` instead. This function becomes public and is part of the scikit-learn developer API.\n",
            "  warnings.warn(\n"
          ]
        },
        {
          "name": "stdout",
          "output_type": "stream",
          "text": [
            "\n",
            "Trial 3/10 with parameters:\n",
            "{'tournament_size': 10, 'stopping_criteria': 0.05, 'population_size': 2000, 'parsimony_coefficient': 0.001, 'p_subtree_mutation': 0.05, 'p_point_mutation': 0.05, 'p_hoist_mutation': 0.03, 'p_crossover': 0.85, 'n_features_to_select': 10, 'max_samples': 0.9, 'max_depth': 7, 'generations': 500, 'function_set': ['add', 'sub', 'mul', 'abs', 'sqrt', 'log', 'inv', 'neg', <gplearn.functions._Function object at 0x7fb19c1b8450>, <gplearn.functions._Function object at 0x7fb19ae057d0>, <gplearn.functions._Function object at 0x7fb1e8640e90>, <gplearn.functions._Function object at 0x7fb19beaedd0>]}\n"
          ]
        },
        {
          "name": "stderr",
          "output_type": "stream",
          "text": [
            "/usr/local/lib/python3.11/dist-packages/sklearn/base.py:474: FutureWarning: `BaseEstimator._validate_data` is deprecated in 1.6 and will be removed in 1.7. Use `sklearn.utils.validation.validate_data` instead. This function becomes public and is part of the scikit-learn developer API.\n",
            "  warnings.warn(\n"
          ]
        },
        {
          "name": "stdout",
          "output_type": "stream",
          "text": [
            "\n",
            "Trial 4/10 with parameters:\n",
            "{'tournament_size': 5, 'stopping_criteria': 0.05, 'population_size': 3000, 'parsimony_coefficient': 0.01, 'p_subtree_mutation': 0.05, 'p_point_mutation': 0.05, 'p_hoist_mutation': 0.03, 'p_crossover': 0.85, 'n_features_to_select': 10, 'max_samples': 0.9, 'max_depth': 10, 'generations': 500, 'function_set': ['add', 'sub', 'mul', 'abs', 'sqrt', 'log', 'inv', 'neg', <gplearn.functions._Function object at 0x7fb19c1b8450>, <gplearn.functions._Function object at 0x7fb19ae057d0>, <gplearn.functions._Function object at 0x7fb1e8640e90>, <gplearn.functions._Function object at 0x7fb19beaedd0>]}\n"
          ]
        },
        {
          "name": "stderr",
          "output_type": "stream",
          "text": [
            "/usr/local/lib/python3.11/dist-packages/sklearn/base.py:474: FutureWarning: `BaseEstimator._validate_data` is deprecated in 1.6 and will be removed in 1.7. Use `sklearn.utils.validation.validate_data` instead. This function becomes public and is part of the scikit-learn developer API.\n",
            "  warnings.warn(\n"
          ]
        },
        {
          "name": "stdout",
          "output_type": "stream",
          "text": [
            "\n",
            "Trial 5/10 with parameters:\n",
            "{'tournament_size': 10, 'stopping_criteria': 0.05, 'population_size': 2000, 'parsimony_coefficient': 0.001, 'p_subtree_mutation': 0.05, 'p_point_mutation': 0.05, 'p_hoist_mutation': 0.03, 'p_crossover': 0.85, 'n_features_to_select': 5, 'max_samples': 0.9, 'max_depth': 10, 'generations': 300, 'function_set': ['add', 'sub', 'mul', 'abs', 'sqrt', 'log', 'inv', 'neg', <gplearn.functions._Function object at 0x7fb19c1b8450>, <gplearn.functions._Function object at 0x7fb19ae057d0>, <gplearn.functions._Function object at 0x7fb1e8640e90>, <gplearn.functions._Function object at 0x7fb19beaedd0>]}\n"
          ]
        },
        {
          "name": "stderr",
          "output_type": "stream",
          "text": [
            "/usr/local/lib/python3.11/dist-packages/sklearn/base.py:474: FutureWarning: `BaseEstimator._validate_data` is deprecated in 1.6 and will be removed in 1.7. Use `sklearn.utils.validation.validate_data` instead. This function becomes public and is part of the scikit-learn developer API.\n",
            "  warnings.warn(\n"
          ]
        },
        {
          "name": "stdout",
          "output_type": "stream",
          "text": [
            "\n",
            "Trial 6/10 with parameters:\n",
            "{'tournament_size': 10, 'stopping_criteria': 0.05, 'population_size': 3000, 'parsimony_coefficient': 0.01, 'p_subtree_mutation': 0.05, 'p_point_mutation': 0.05, 'p_hoist_mutation': 0.03, 'p_crossover': 0.85, 'n_features_to_select': 10, 'max_samples': 0.9, 'max_depth': 7, 'generations': 500, 'function_set': ['add', 'sub', 'mul', 'abs', 'sqrt', 'log', 'inv', 'neg', <gplearn.functions._Function object at 0x7fb19c1b8450>, <gplearn.functions._Function object at 0x7fb19ae057d0>, <gplearn.functions._Function object at 0x7fb1e8640e90>, <gplearn.functions._Function object at 0x7fb19beaedd0>]}\n"
          ]
        },
        {
          "name": "stderr",
          "output_type": "stream",
          "text": [
            "/usr/local/lib/python3.11/dist-packages/sklearn/base.py:474: FutureWarning: `BaseEstimator._validate_data` is deprecated in 1.6 and will be removed in 1.7. Use `sklearn.utils.validation.validate_data` instead. This function becomes public and is part of the scikit-learn developer API.\n",
            "  warnings.warn(\n"
          ]
        },
        {
          "name": "stdout",
          "output_type": "stream",
          "text": [
            "\n",
            "Trial 7/10 with parameters:\n",
            "{'tournament_size': 10, 'stopping_criteria': 0.05, 'population_size': 2000, 'parsimony_coefficient': 0.01, 'p_subtree_mutation': 0.05, 'p_point_mutation': 0.05, 'p_hoist_mutation': 0.03, 'p_crossover': 0.85, 'n_features_to_select': 5, 'max_samples': 0.9, 'max_depth': 7, 'generations': 500, 'function_set': ['add', 'sub', 'mul', 'abs', 'sqrt', 'log', 'inv', 'neg', <gplearn.functions._Function object at 0x7fb19c1b8450>, <gplearn.functions._Function object at 0x7fb19ae057d0>, <gplearn.functions._Function object at 0x7fb1e8640e90>, <gplearn.functions._Function object at 0x7fb19beaedd0>]}\n"
          ]
        },
        {
          "name": "stderr",
          "output_type": "stream",
          "text": [
            "/usr/local/lib/python3.11/dist-packages/sklearn/base.py:474: FutureWarning: `BaseEstimator._validate_data` is deprecated in 1.6 and will be removed in 1.7. Use `sklearn.utils.validation.validate_data` instead. This function becomes public and is part of the scikit-learn developer API.\n",
            "  warnings.warn(\n"
          ]
        },
        {
          "name": "stdout",
          "output_type": "stream",
          "text": [
            "\n",
            "Trial 8/10 with parameters:\n",
            "{'tournament_size': 5, 'stopping_criteria': 0.05, 'population_size': 3000, 'parsimony_coefficient': 0.001, 'p_subtree_mutation': 0.05, 'p_point_mutation': 0.05, 'p_hoist_mutation': 0.03, 'p_crossover': 0.85, 'n_features_to_select': 10, 'max_samples': 0.9, 'max_depth': 10, 'generations': 300, 'function_set': ['add', 'sub', 'mul', 'abs', 'sqrt', 'log', 'inv', 'neg', <gplearn.functions._Function object at 0x7fb19c1b8450>, <gplearn.functions._Function object at 0x7fb19ae057d0>, <gplearn.functions._Function object at 0x7fb1e8640e90>, <gplearn.functions._Function object at 0x7fb19beaedd0>]}\n"
          ]
        },
        {
          "name": "stderr",
          "output_type": "stream",
          "text": [
            "/usr/local/lib/python3.11/dist-packages/sklearn/base.py:474: FutureWarning: `BaseEstimator._validate_data` is deprecated in 1.6 and will be removed in 1.7. Use `sklearn.utils.validation.validate_data` instead. This function becomes public and is part of the scikit-learn developer API.\n",
            "  warnings.warn(\n"
          ]
        },
        {
          "name": "stdout",
          "output_type": "stream",
          "text": [
            "\n",
            "Trial 9/10 with parameters:\n",
            "{'tournament_size': 5, 'stopping_criteria': 0.05, 'population_size': 2000, 'parsimony_coefficient': 0.001, 'p_subtree_mutation': 0.05, 'p_point_mutation': 0.05, 'p_hoist_mutation': 0.03, 'p_crossover': 0.85, 'n_features_to_select': 5, 'max_samples': 0.9, 'max_depth': 5, 'generations': 300, 'function_set': ['add', 'sub', 'mul', 'abs', 'sqrt', 'log', 'inv', 'neg', <gplearn.functions._Function object at 0x7fb19c1b8450>, <gplearn.functions._Function object at 0x7fb19ae057d0>, <gplearn.functions._Function object at 0x7fb1e8640e90>, <gplearn.functions._Function object at 0x7fb19beaedd0>]}\n"
          ]
        },
        {
          "name": "stderr",
          "output_type": "stream",
          "text": [
            "/usr/local/lib/python3.11/dist-packages/sklearn/base.py:474: FutureWarning: `BaseEstimator._validate_data` is deprecated in 1.6 and will be removed in 1.7. Use `sklearn.utils.validation.validate_data` instead. This function becomes public and is part of the scikit-learn developer API.\n",
            "  warnings.warn(\n"
          ]
        },
        {
          "name": "stdout",
          "output_type": "stream",
          "text": [
            "\n",
            "Trial 10/10 with parameters:\n",
            "{'tournament_size': 5, 'stopping_criteria': 0.05, 'population_size': 3000, 'parsimony_coefficient': 0.001, 'p_subtree_mutation': 0.05, 'p_point_mutation': 0.05, 'p_hoist_mutation': 0.03, 'p_crossover': 0.85, 'n_features_to_select': 10, 'max_samples': 0.9, 'max_depth': 5, 'generations': 300, 'function_set': ['add', 'sub', 'mul', 'abs', 'sqrt', 'log', 'inv', 'neg', <gplearn.functions._Function object at 0x7fb19c1b8450>, <gplearn.functions._Function object at 0x7fb19ae057d0>, <gplearn.functions._Function object at 0x7fb1e8640e90>, <gplearn.functions._Function object at 0x7fb19beaedd0>]}\n"
          ]
        },
        {
          "name": "stderr",
          "output_type": "stream",
          "text": [
            "/usr/local/lib/python3.11/dist-packages/sklearn/base.py:474: FutureWarning: `BaseEstimator._validate_data` is deprecated in 1.6 and will be removed in 1.7. Use `sklearn.utils.validation.validate_data` instead. This function becomes public and is part of the scikit-learn developer API.\n",
            "  warnings.warn(\n"
          ]
        },
        {
          "name": "stdout",
          "output_type": "stream",
          "text": [
            "\n",
            "Best Model Summary:\n",
            "  Accuracy: 0.75\n",
            "  Precision: 0.6666666666666666\n",
            "  Recall: 0.6666666666666666\n",
            "  F1-score: 0.6666666666666666\n",
            "  AUC: 0.7666666666666666\n",
            "  Features: ['BCUT2D_MWHI', 'PEOE_VSA13', 'VSA_EState10', 'fr_Al_COO', 'fr_Al_OH', 'fr_Al_OH_noTert', 'DSC_area', 'DSC_peak_height', 'MSEH2O_0.12992', 'CPMGD2O_119.88928']\n",
            "  Equation: abs(mul2(fr_Al_COO, VSA_EState10))\n",
            "  Parameters: {'tournament_size': 10, 'stopping_criteria': 0.05, 'population_size': 2000, 'parsimony_coefficient': 0.01, 'p_subtree_mutation': 0.05, 'p_point_mutation': 0.05, 'p_hoist_mutation': 0.03, 'p_crossover': 0.85, 'n_features_to_select': 10, 'max_samples': 0.9, 'max_depth': 7, 'generations': 500, 'function_set': ['add', 'sub', 'mul', 'abs', 'sqrt', 'log', 'inv', 'neg', <gplearn.functions._Function object at 0x7fb19c1b8450>, <gplearn.functions._Function object at 0x7fb19ae057d0>, <gplearn.functions._Function object at 0x7fb1e8640e90>, <gplearn.functions._Function object at 0x7fb19beaedd0>]}\n"
          ]
        }
      ],
      "source": [
        "# The code for HNCO\n",
        "import pandas as pd\n",
        "import numpy as np\n",
        "!pip install gplearn\n",
        "from gplearn.genetic import SymbolicRegressor\n",
        "from sklearn.model_selection import train_test_split, ParameterSampler\n",
        "from sklearn.metrics import accuracy_score, recall_score, precision_score, f1_score, roc_auc_score, r2_score\n",
        "from sklearn.feature_selection import SelectKBest, f_regression\n",
        "import random\n",
        "from gplearn.functions import make_function\n",
        "\n",
        "# ランダムシード固定\n",
        "random_seed = 42\n",
        "random.seed(random_seed)\n",
        "np.random.seed(random_seed)\n",
        "\n",
        "# データ読み込み\n",
        "data = pd.read_csv('file name.csv')\n",
        "if 'Unnamed: 0' in data.columns:\n",
        "    X = data.drop(['CA1', 'Unnamed: 0'], axis=1)\n",
        "else:\n",
        "    X = data.drop('CA1', axis=1)\n",
        "y = data['CA1']\n",
        "\n",
        "# データ分割\n",
        "X_train, X_test, y_train, y_test = train_test_split(\n",
        "    X, y, test_size=0.3, random_state=random_seed, stratify=y\n",
        ")\n",
        "\n",
        "# カスタム関数定義\n",
        "def protected_square(x):\n",
        "    return np.where(np.abs(x) < 1e10, x**2, 1e10)\n",
        "\n",
        "def protected_cbrt(x):\n",
        "    return np.cbrt(x)\n",
        "\n",
        "def multiply2(x1, x2):\n",
        "    return x1 * x2\n",
        "\n",
        "def safe_divide(x1, x2):\n",
        "    return np.where(np.abs(x2) < 1e-6, 1.0, x1 / x2)\n",
        "\n",
        "# make_function を使って GPlearn が認識できる形式に変換\n",
        "square_function = make_function(function=protected_square, arity=1, name='square')\n",
        "cbrt_function = make_function(function=protected_cbrt, arity=1, name='cbrt')\n",
        "multiply2_function = make_function(function=multiply2, arity=2, name='mul2')\n",
        "safe_divide_function = make_function(function=safe_divide, arity=2, name='div')\n",
        "\n",
        "# 改善版：関数セットとパラメータ\n",
        "function_set = ['add', 'sub', 'mul', 'abs', 'sqrt', 'log', 'inv', 'neg',\n",
        "                square_function, cbrt_function,\n",
        "                multiply2_function, safe_divide_function] # 関数オブジェクトを直接指定\n",
        "\n",
        "param_grid_improved = {\n",
        "    'n_features_to_select': [5, 10],\n",
        "    'function_set': [function_set],\n",
        "    'population_size': [2000, 3000],\n",
        "    'generations': [300, 500],\n",
        "    'tournament_size': [5, 10],\n",
        "    'stopping_criteria': [0.05],\n",
        "    'p_crossover': [0.85],\n",
        "    'p_subtree_mutation': [0.05],\n",
        "    'p_hoist_mutation': [0.03],\n",
        "    'p_point_mutation': [0.05],\n",
        "    'max_samples': [0.9],\n",
        "    'parsimony_coefficient': [0.001, 0.01],\n",
        "    'max_depth': [5, 7, 10], # max_depth を追加\n",
        "}\n",
        "\n",
        "# パラメータサンプリング\n",
        "n_iter = 10\n",
        "param_sampler = ParameterSampler(param_grid_improved, n_iter=n_iter, random_state=random_seed)\n",
        "\n",
        "best_score = -1.0\n",
        "best_params = None\n",
        "best_estimator = None\n",
        "all_results = []\n",
        "\n",
        "for i, params in enumerate(param_sampler):\n",
        "    print(f\"\\nTrial {i+1}/{n_iter} with parameters:\\n{params}\")\n",
        "\n",
        "    # 特徴量選択\n",
        "    selector = SelectKBest(score_func=f_regression, k=params['n_features_to_select'])\n",
        "    X_train_sel = selector.fit_transform(X_train, y_train) # スケール前のデータを使用\n",
        "    X_test_sel = selector.transform(X_test) # スケール前のデータを使用\n",
        "    selected_features = X_train.columns[selector.get_support(indices=True)].tolist()\n",
        "\n",
        "    # モデル構築\n",
        "    est = SymbolicRegressor(\n",
        "        random_state=random_seed,\n",
        "        function_set=params['function_set'],\n",
        "        metric='mse',\n",
        "        population_size=params['population_size'],\n",
        "        generations=params['generations'],\n",
        "        tournament_size=params['tournament_size'],\n",
        "        stopping_criteria=params['stopping_criteria'],\n",
        "        p_crossover=params['p_crossover'],\n",
        "        p_subtree_mutation=params['p_subtree_mutation'],\n",
        "        p_hoist_mutation=params['p_hoist_mutation'],\n",
        "        p_point_mutation=params['p_point_mutation'],\n",
        "        max_samples=params['max_samples'],\n",
        "        parsimony_coefficient=params['parsimony_coefficient'],\n",
        "        n_jobs=-1,\n",
        "        feature_names=selected_features\n",
        "    )\n",
        "\n",
        "    est.fit(X_train_sel, y_train)\n",
        "    y_pred = est.predict(X_test_sel)\n",
        "    y_pred_binary = (y_pred > 0.5).astype(int)\n",
        "    acc = accuracy_score(y_test, y_pred_binary)\n",
        "    recall = recall_score(y_test, y_pred_binary)\n",
        "    precision = precision_score(y_test, y_pred_binary)\n",
        "    f1 = f1_score(y_test, y_pred_binary)\n",
        "    auc = roc_auc_score(y_test, y_pred)\n",
        "    r2 = r2_score(y_test, y_pred)\n",
        "\n",
        "    all_results.append({\n",
        "        'params': params,\n",
        "        'accuracy': acc,\n",
        "        'precision': precision,\n",
        "        'recall': recall,\n",
        "        'f1_score': f1,\n",
        "        'auc': auc,\n",
        "        'r2_score': r2,\n",
        "        'features': selected_features,\n",
        "        'equation': str(est._program)\n",
        "    })\n",
        "\n",
        "    if acc > best_score:\n",
        "        best_score = acc\n",
        "        best_params = params\n",
        "        best_estimator = est\n",
        "        best_features = selected_features\n",
        "        best_precision = precision\n",
        "        best_recall = recall\n",
        "        best_f1 = f1\n",
        "        best_auc = auc\n",
        "\n",
        "# ベストモデル結果\n",
        "print(\"\\nBest Model Summary:\")\n",
        "print(f\"  Accuracy: {best_score}\")\n",
        "print(f\"  Precision: {best_precision}\")\n",
        "print(f\"  Recall: {best_recall}\")\n",
        "print(f\"  F1-score: {best_f1}\")\n",
        "print(f\"  AUC: {best_auc}\")\n",
        "print(f\"  Features: {best_features}\")\n",
        "print(f\"  Equation: {best_estimator._program}\")\n",
        "print(f\"  Parameters: {best_params}\")"
      ]
    }
  ],
  "metadata": {
    "colab": {
      "provenance": [],
      "authorship_tag": "ABX9TyMhCq5vrezTCeRVdOX6mwFS",
      "include_colab_link": true
    },
    "kernelspec": {
      "display_name": "Python 3",
      "name": "python3"
    },
    "language_info": {
      "name": "python"
    }
  },
  "nbformat": 4,
  "nbformat_minor": 0
}