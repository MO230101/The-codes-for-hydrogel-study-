{
  "cells": [
    {
      "cell_type": "markdown",
      "metadata": {
        "id": "view-in-github",
        "colab_type": "text"
      },
      "source": [
        "<a href=\"https://colab.research.google.com/github/MO230101/The-codes-for-hydrogel-study-/blob/main/1DNMR_ucsf_for_paper.ipynb\" target=\"_parent\"><img src=\"https://colab.research.google.com/assets/colab-badge.svg\" alt=\"Open In Colab\"/></a>"
      ]
    },
    {
      "cell_type": "code",
      "execution_count": null,
      "metadata": {
        "colab": {
          "base_uri": "https://localhost:8080/"
        },
        "id": "67kmIqBYOnE0",
        "outputId": "37b6cbe5-bd30-4634-897d-75121e1ce7bb"
      },
      "outputs": [
        {
          "name": "stdout",
          "output_type": "stream",
          "text": [
            "Collecting nmrglue\n",
            "  Downloading nmrglue-0.11-py2.py3-none-any.whl.metadata (3.3 kB)\n",
            "Requirement already satisfied: numpy in /usr/local/lib/python3.11/dist-packages (from nmrglue) (2.0.2)\n",
            "Requirement already satisfied: scipy in /usr/local/lib/python3.11/dist-packages (from nmrglue) (1.15.3)\n",
            "Downloading nmrglue-0.11-py2.py3-none-any.whl (226 kB)\n",
            "\u001b[?25l   \u001b[90m━━━━━━━━━━━━━━━━━━━━━━━━━━━━━━━━━━━━━━━━\u001b[0m \u001b[32m0.0/226.1 kB\u001b[0m \u001b[31m?\u001b[0m eta \u001b[36m-:--:--\u001b[0m\r\u001b[2K   \u001b[91m━━━━━━━━━━━━━━━━\u001b[0m\u001b[90m╺\u001b[0m\u001b[90m━━━━━━━━━━━━━━━━━━━━━━━\u001b[0m \u001b[32m92.2/226.1 kB\u001b[0m \u001b[31m2.5 MB/s\u001b[0m eta \u001b[36m0:00:01\u001b[0m\r\u001b[2K   \u001b[90m━━━━━━━━━━━━━━━━━━━━━━━━━━━━━━━━━━━━━━━━\u001b[0m \u001b[32m226.1/226.1 kB\u001b[0m \u001b[31m3.4 MB/s\u001b[0m eta \u001b[36m0:00:00\u001b[0m\n",
            "\u001b[?25hInstalling collected packages: nmrglue\n",
            "Successfully installed nmrglue-0.11\n",
            "Input a directory of topspin file (where you can find a file named \" fid \") : /content/drive/MyDrive/Okada_250508/5\n",
            "Input a  directory to save : /content/drive/MyDrive/ucsf\n",
            "Input a name of save file : 250508_5\n"
          ]
        }
      ],
      "source": [
        "\n",
        "!pip install nmrglue\n",
        "import numpy as np\n",
        "import nmrglue as ng\n",
        "import os\n",
        "import re\n",
        "\n",
        "\n",
        "\n",
        "def topspin2sparky (file_path=None , target_path=None , file_name = None) :\n",
        "    if not file_path:\n",
        "        file_path=input('Input a directory of topspin file (where you can find a file named \" fid \") : ')\n",
        "        file_path=os.path.join(os.path.join(file_path,'pdata'),'1')\n",
        "    if file_path[0] == '\"' or file_path[0] == \"'\" : file_path = file_path[1:-1]\n",
        "    if 'pdata' not in file_path:\n",
        "        print('1')\n",
        "        file_path=os.path.join(os.path.join(file_path,'pdata'),'1')\n",
        "    if not target_path:\n",
        "        target_path=input('Input a  directory to save : ')\n",
        "    if target_path[0] == '\"' or target_path[0] == \"'\" : target_path = target_path[1:-1]\n",
        "    if not file_name:\n",
        "        file_name=input('Input a name of save file : ')\n",
        "    dic, data = ng.bruker.read_pdata(file_path)\n",
        "\n",
        "    udic = ng.bruker.guess_udic(dic,data)\n",
        "    try:\n",
        "        with open(os.path.join(target_path,'udic.txt'),'w') as f:\n",
        "            for i in range(udic['ndim']):\n",
        "                f.write(f'F{i+1} :')\n",
        "                f.write('\\n')\n",
        "                for k,v in udic[i].items():\n",
        "                    f.write('\\t')\n",
        "                    f.write(f'{k} : {v}')\n",
        "                    f.write('\\n')\n",
        "    except:pass\n",
        "\n",
        "    uc = [[] for i in range(udic['ndim'])]\n",
        "    ppm_scale = [[] for i in range(udic['ndim'])]\n",
        "    for i in range(udic['ndim']):\n",
        "    #print(f'F{i+1} :')\n",
        "        uc[i] = ng.fileio.fileiobase.unit_conversion(\n",
        "    udic[i]['size'],\n",
        "    udic[i]['complex'],\n",
        "    udic[i]['sw'],\n",
        "    udic[i]['obs'],\n",
        "    udic[i]['car'])\n",
        "# Calculate ppm scale\n",
        "        ppm_scale[i] = uc[i].ppm_scale()\n",
        "\n",
        "    C = ng.convert.converter()\n",
        "    C.from_bruker(dic, data, udic)\n",
        "    try:\n",
        "        ng.sparky.write(os.path.join(target_path,f'{file_name}.ucsf'), *C.to_sparky())\n",
        "    except OSError:\n",
        "        print('Failed in saving!!!')\n",
        "        pass\n",
        "    except:\n",
        "        with open('error_mes.txt','w') as f:\n",
        "            f.write('error!')\n",
        "\n",
        "#path = r'\"C:\\Users\\okada masayuki\\Desktop\\351\"'\n",
        "topspin2sparky()"
      ]
    },
    {
      "cell_type": "markdown",
      "source": [],
      "metadata": {
        "id": "jbws2At4lbKr"
      }
    }
  ],
  "metadata": {
    "colab": {
      "provenance": [],
      "mount_file_id": "1J-lwPtsJVX4rGdD1yJhHXK-K7nvtoQsG",
      "authorship_tag": "ABX9TyNaYCo8v8XrwXTFg4z5nfly",
      "include_colab_link": true
    },
    "kernelspec": {
      "display_name": "Python 3",
      "name": "python3"
    },
    "language_info": {
      "name": "python"
    }
  },
  "nbformat": 4,
  "nbformat_minor": 0
}