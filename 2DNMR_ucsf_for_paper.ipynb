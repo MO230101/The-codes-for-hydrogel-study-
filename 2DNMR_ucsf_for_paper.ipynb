{
  "nbformat": 4,
  "nbformat_minor": 0,
  "metadata": {
    "colab": {
      "provenance": [],
      "mount_file_id": "1-EUcCtkfD9I2dqu2_LTcn0XKfg9_8fDf",
      "authorship_tag": "ABX9TyPfA7Yetxzh4l5N8rtr1K6l",
      "include_colab_link": true
    },
    "kernelspec": {
      "name": "python3",
      "display_name": "Python 3"
    },
    "language_info": {
      "name": "python"
    }
  },
  "cells": [
    {
      "cell_type": "markdown",
      "metadata": {
        "id": "view-in-github",
        "colab_type": "text"
      },
      "source": [
        "<a href=\"https://colab.research.google.com/github/MO230101/The-codes-for-hydrogel-study-/blob/main/2DNMR_ucsf_for_paper.ipynb\" target=\"_parent\"><img src=\"https://colab.research.google.com/assets/colab-badge.svg\" alt=\"Open In Colab\"/></a>"
      ]
    },
    {
      "cell_type": "code",
      "execution_count": null,
      "metadata": {
        "colab": {
          "base_uri": "https://localhost:8080/",
          "height": 477
        },
        "id": "idtFGckboeY4",
        "outputId": "a8a4508b-2862-4b2a-987a-9a2d6e50dc77"
      },
      "outputs": [
        {
          "name": "stdout",
          "output_type": "stream",
          "text": [
            "Requirement already satisfied: nmrglue in /usr/local/lib/python3.11/dist-packages (0.11)\n",
            "Requirement already satisfied: numpy in /usr/local/lib/python3.11/dist-packages (from nmrglue) (1.26.4)\n",
            "Requirement already satisfied: scipy in /usr/local/lib/python3.11/dist-packages (from nmrglue) (1.13.1)\n",
            "Input a directory of topspin file (where you can find a file named \" fid \") : /content/drive/MyDrive/okada/352\n",
            "Input a  directory to save : /content/drive/MyDrive/ucsf\n",
            "Input a name of save file : test250513\n"
          ]
        },
        {
          "output_type": "error",
          "ename": "OSError",
          "evalue": "directory /content/drive/MyDrive/okada/352/pdata/2 does not exist",
          "traceback": [
            "\u001b[0;31m---------------------------------------------------------------------------\u001b[0m",
            "\u001b[0;31mOSError\u001b[0m                                   Traceback (most recent call last)",
            "\u001b[0;32m<ipython-input-4-a912590c90fe>\u001b[0m in \u001b[0;36m<cell line: 0>\u001b[0;34m()\u001b[0m\n\u001b[1;32m     59\u001b[0m \u001b[0;34m\u001b[0m\u001b[0m\n\u001b[1;32m     60\u001b[0m \u001b[0;31m#path = r'\"C:\\Users\\okada masayuki\\Desktop\\351\"'\u001b[0m\u001b[0;34m\u001b[0m\u001b[0;34m\u001b[0m\u001b[0m\n\u001b[0;32m---> 61\u001b[0;31m \u001b[0mtopspin2sparky\u001b[0m\u001b[0;34m(\u001b[0m\u001b[0;34m)\u001b[0m\u001b[0;34m\u001b[0m\u001b[0;34m\u001b[0m\u001b[0m\n\u001b[0m\u001b[1;32m     62\u001b[0m \u001b[0;34m\u001b[0m\u001b[0m\n",
            "\u001b[0;32m<ipython-input-4-a912590c90fe>\u001b[0m in \u001b[0;36mtopspin2sparky\u001b[0;34m(file_path, target_path, file_name)\u001b[0m\n\u001b[1;32m     20\u001b[0m     \u001b[0;32mif\u001b[0m \u001b[0;32mnot\u001b[0m \u001b[0mfile_name\u001b[0m\u001b[0;34m:\u001b[0m\u001b[0;34m\u001b[0m\u001b[0;34m\u001b[0m\u001b[0m\n\u001b[1;32m     21\u001b[0m         \u001b[0mfile_name\u001b[0m\u001b[0;34m=\u001b[0m\u001b[0minput\u001b[0m\u001b[0;34m(\u001b[0m\u001b[0;34m'Input a name of save file : '\u001b[0m\u001b[0;34m)\u001b[0m\u001b[0;34m\u001b[0m\u001b[0;34m\u001b[0m\u001b[0m\n\u001b[0;32m---> 22\u001b[0;31m     \u001b[0mdic\u001b[0m\u001b[0;34m,\u001b[0m \u001b[0mdata\u001b[0m \u001b[0;34m=\u001b[0m \u001b[0mng\u001b[0m\u001b[0;34m.\u001b[0m\u001b[0mbruker\u001b[0m\u001b[0;34m.\u001b[0m\u001b[0mread_pdata\u001b[0m\u001b[0;34m(\u001b[0m\u001b[0mfile_path\u001b[0m\u001b[0;34m)\u001b[0m\u001b[0;34m\u001b[0m\u001b[0;34m\u001b[0m\u001b[0m\n\u001b[0m\u001b[1;32m     23\u001b[0m \u001b[0;34m\u001b[0m\u001b[0m\n\u001b[1;32m     24\u001b[0m     \u001b[0mudic\u001b[0m \u001b[0;34m=\u001b[0m \u001b[0mng\u001b[0m\u001b[0;34m.\u001b[0m\u001b[0mbruker\u001b[0m\u001b[0;34m.\u001b[0m\u001b[0mguess_udic\u001b[0m\u001b[0;34m(\u001b[0m\u001b[0mdic\u001b[0m\u001b[0;34m,\u001b[0m\u001b[0mdata\u001b[0m\u001b[0;34m)\u001b[0m\u001b[0;34m\u001b[0m\u001b[0;34m\u001b[0m\u001b[0m\n",
            "\u001b[0;32m/usr/local/lib/python3.11/dist-packages/nmrglue/fileio/bruker.py\u001b[0m in \u001b[0;36mread_pdata\u001b[0;34m(dir, bin_files, procs_files, read_procs, acqus_files, read_acqus, scale_data, shape, submatrix_shape, all_components, big, isfloat)\u001b[0m\n\u001b[1;32m   1220\u001b[0m \u001b[0;34m\u001b[0m\u001b[0m\n\u001b[1;32m   1221\u001b[0m     \u001b[0;32mif\u001b[0m \u001b[0mos\u001b[0m\u001b[0;34m.\u001b[0m\u001b[0mpath\u001b[0m\u001b[0;34m.\u001b[0m\u001b[0misdir\u001b[0m\u001b[0;34m(\u001b[0m\u001b[0mdir\u001b[0m\u001b[0;34m)\u001b[0m \u001b[0;32mis\u001b[0m \u001b[0;32mnot\u001b[0m \u001b[0;32mTrue\u001b[0m\u001b[0;34m:\u001b[0m\u001b[0;34m\u001b[0m\u001b[0;34m\u001b[0m\u001b[0m\n\u001b[0;32m-> 1222\u001b[0;31m         \u001b[0;32mraise\u001b[0m \u001b[0mOSError\u001b[0m\u001b[0;34m(\u001b[0m\u001b[0;34m\"directory %s does not exist\"\u001b[0m \u001b[0;34m%\u001b[0m \u001b[0;34m(\u001b[0m\u001b[0mdir\u001b[0m\u001b[0;34m)\u001b[0m\u001b[0;34m)\u001b[0m\u001b[0;34m\u001b[0m\u001b[0;34m\u001b[0m\u001b[0m\n\u001b[0m\u001b[1;32m   1223\u001b[0m \u001b[0;34m\u001b[0m\u001b[0m\n\u001b[1;32m   1224\u001b[0m     \u001b[0;31m# find binary files\u001b[0m\u001b[0;34m\u001b[0m\u001b[0;34m\u001b[0m\u001b[0m\n",
            "\u001b[0;31mOSError\u001b[0m: directory /content/drive/MyDrive/okada/352/pdata/2 does not exist"
          ]
        }
      ],
      "source": [
        "!pip install nmrglue\n",
        "import numpy as np\n",
        "import nmrglue as ng\n",
        "import os\n",
        "import re\n",
        "\n",
        "\n",
        "\n",
        "def topspin2sparky (file_path=None , target_path=None , file_name = None) :\n",
        "    if not file_path:\n",
        "        file_path=input('Input a directory of topspin file (where you can find a file named \" fid \") : ')\n",
        "        file_path=os.path.join(os.path.join(file_path,'pdata'),'2')\n",
        "    if file_path[0] == '\"' or file_path[0] == \"'\" : file_path = file_path[1:-1]\n",
        "    if 'pdata' not in file_path:\n",
        "        print('1')\n",
        "        file_path=os.path.join(os.path.join(file_path,'pdata'),'2')\n",
        "    if not target_path:\n",
        "        target_path=input('Input a  directory to save : ')\n",
        "    if target_path[0] == '\"' or target_path[0] == \"'\" : target_path = target_path[1:-1]\n",
        "    if not file_name:\n",
        "        file_name=input('Input a name of save file : ')\n",
        "    dic, data = ng.bruker.read_pdata(file_path)\n",
        "\n",
        "    udic = ng.bruker.guess_udic(dic,data)\n",
        "    try:\n",
        "        with open(os.path.join(target_path,'udic.txt'),'w') as f:\n",
        "            for i in range(udic['ndim']):\n",
        "                f.write(f'F{i+1} :')\n",
        "                f.write('\\n')\n",
        "                for k,v in udic[i].items():\n",
        "                    f.write('\\t')\n",
        "                    f.write(f'{k} : {v}')\n",
        "                    f.write('\\n')\n",
        "    except:pass\n",
        "\n",
        "    uc = [[] for i in range(udic['ndim'])]\n",
        "    ppm_scale = [[] for i in range(udic['ndim'])]\n",
        "    for i in range(udic['ndim']):\n",
        "    #print(f'F{i+1} :')\n",
        "        uc[i] = ng.fileio.fileiobase.unit_conversion(\n",
        "    udic[i]['size'],\n",
        "    udic[i]['complex'],\n",
        "    udic[i]['sw'],\n",
        "    udic[i]['obs'],\n",
        "    udic[i]['car'])\n",
        "# Calculate ppm scale\n",
        "        ppm_scale[i] = uc[i].ppm_scale()\n",
        "\n",
        "    C = ng.convert.converter()\n",
        "    C.from_bruker(dic, data, udic)\n",
        "    try:\n",
        "        ng.sparky.write(os.path.join(target_path,f'{file_name}.ucsf'), *C.to_sparky())\n",
        "    except OSError:\n",
        "        print('Failed in saving!!!')\n",
        "        pass\n",
        "    except:\n",
        "        with open('error_mes.txt','w') as f:\n",
        "            f.write('error!')\n",
        "\n",
        "#path = r'\"C:\\Users\\okada masayuki\\Desktop\\351\"'\n",
        "topspin2sparky()\n",
        "\n"
      ]
    },
    {
      "cell_type": "code",
      "source": [],
      "metadata": {
        "id": "NPMOV4XCQHQ5"
      },
      "execution_count": null,
      "outputs": []
    },
    {
      "cell_type": "code",
      "source": [
        "from google.colab import drive\n",
        "drive.mount('/content/drive')"
      ],
      "metadata": {
        "id": "a09fY4-2INlO"
      },
      "execution_count": null,
      "outputs": []
    }
  ]
}